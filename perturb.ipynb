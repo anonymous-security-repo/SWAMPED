{
 "cells": [
  {
   "cell_type": "markdown",
   "metadata": {},
   "source": [
    "### Parsing"
   ]
  },
  {
   "cell_type": "code",
   "execution_count": 2,
   "metadata": {},
   "outputs": [],
   "source": [
    "from wasmParser import parser\n",
    "from importlib import reload\n",
    "\n",
    "import subprocess as sp\n",
    "from strategies import state\n",
    "reload(state)\n",
    "reload(parser)\n",
    "import numpy as np"
   ]
  },
  {
   "cell_type": "code",
   "execution_count": null,
   "metadata": {},
   "outputs": [],
   "source": [
    "wast_path = \"{your_wast_file_path}\"\n",
    "\n",
    "wast_name = \"{your_wast_file_name}\"\n",
    "\n",
    "with open(wast_path+wast_name+\".wast\") as fr:\n",
    "    origin_wast = fr.readlines()\n",
    "    \n",
    "parsedSection = parser.parseWast(origin_wast)"
   ]
  },
  {
   "cell_type": "markdown",
   "metadata": {},
   "source": [
    "### Perturbation"
   ]
  },
  {
   "cell_type": "code",
   "execution_count": null,
   "metadata": {},
   "outputs": [],
   "source": [
    "from strategies import section_entry as se\n",
    "from strategies import function_code as fc\n",
    "import copy\n",
    "\n",
    "pertWasmPath = \"{your_path_to_save_perturbed_samples}\""
   ]
  },
  {
   "cell_type": "code",
   "execution_count": null,
   "metadata": {},
   "outputs": [],
   "source": [
    "strategy = \"section_entry/add_type/\"\n",
    "\n",
    "alpha_beta = [(1,1)]\n",
    "\n",
    "for alpha, beta in alpha_beta:\n",
    "    for ratio in [100]:\n",
    "        ptSection = copy.deepcopy(parsedSection)\n",
    "        se.add_type(ptSection, alpha, beta, ratio/100)\n",
    "\n",
    "        pertWasmName = f\"{wast_name}_{alpha}_{beta}_{ratio}.wast\"\n",
    "        parser.savePertWasm(pertWasmPath+strategy, pertWasmName, ptSection)"
   ]
  },
  {
   "cell_type": "code",
   "execution_count": 15,
   "metadata": {},
   "outputs": [
    {
     "name": "stdout",
     "output_type": "stream",
     "text": [
      "i32.add\n"
     ]
    }
   ],
   "source": [
    "strategy = \"function_code/add_stackOP/\"\n",
    "\n",
    "alpha_beta = [(1,1)]\n",
    "instuction_list = ['i32.add']\n",
    "\n",
    "for alpha, beta in alpha_beta:\n",
    "    for pt_op in instuction_list:\n",
    "        print(pt_op)\n",
    "        for ratio in [100]:\n",
    "            ptSection = copy.deepcopy(parsedSection)\n",
    "            fc.add_stackOP(ptSection, pt_op, alpha, beta, ratio/100)\n",
    "            pertWasmName = f\"{wast_name}_{alpha}_{beta}_{ratio}.wast\"\n",
    "\n",
    "            parser.savePertWasm(pertWasmPath+strategy, pertWasmName, ptSection)"
   ]
  },
  {
   "cell_type": "code",
   "execution_count": null,
   "metadata": {},
   "outputs": [],
   "source": []
  }
 ],
 "metadata": {
  "kernelspec": {
   "display_name": "Python 3",
   "language": "python",
   "name": "python3"
  },
  "language_info": {
   "codemirror_mode": {
    "name": "ipython",
    "version": 3
   },
   "file_extension": ".py",
   "mimetype": "text/x-python",
   "name": "python",
   "nbconvert_exporter": "python",
   "pygments_lexer": "ipython3",
   "version": "3.9.15"
  }
 },
 "nbformat": 4,
 "nbformat_minor": 2
}
